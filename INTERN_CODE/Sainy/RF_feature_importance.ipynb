{
 "cells": [
  {
   "cell_type": "code",
   "execution_count": 1,
   "metadata": {},
   "outputs": [],
   "source": [
    "%matplotlib inline\n",
    "import pandas as pd\n",
    "import numpy as np\n",
    "import matplotlib.pyplot as plt\n",
    "from astropy.table import Table\n",
    "from sklearn.ensemble import RandomForestClassifier\n",
    "from sklearn.model_selection import train_test_split\n",
    "from sklearn.metrics import accuracy_score"
   ]
  },
  {
   "cell_type": "markdown",
   "metadata": {},
   "source": [
    "## get data"
   ]
  },
  {
   "cell_type": "code",
   "execution_count": 2,
   "metadata": {},
   "outputs": [],
   "source": [
    "#get data\n",
    "data_df = pd.read_csv('data/RF_data/mydata.csv')\n",
    "data_labels = np.load('data/RF_data/mydata_labels.npy')\n",
    "#0 = invalid, 1 = valid"
   ]
  },
  {
   "cell_type": "code",
   "execution_count": 4,
   "metadata": {},
   "outputs": [
    {
     "data": {
      "text/html": [
       "<div>\n",
       "<style scoped>\n",
       "    .dataframe tbody tr th:only-of-type {\n",
       "        vertical-align: middle;\n",
       "    }\n",
       "\n",
       "    .dataframe tbody tr th {\n",
       "        vertical-align: top;\n",
       "    }\n",
       "\n",
       "    .dataframe thead th {\n",
       "        text-align: right;\n",
       "    }\n",
       "</style>\n",
       "<table border=\"1\" class=\"dataframe\">\n",
       "  <thead>\n",
       "    <tr style=\"text-align: right;\">\n",
       "      <th></th>\n",
       "      <th>DC</th>\n",
       "      <th>KID</th>\n",
       "      <th>LPH</th>\n",
       "      <th>Mass</th>\n",
       "      <th>Prot</th>\n",
       "      <th>Prot_err</th>\n",
       "      <th>Teff</th>\n",
       "      <th>logg</th>\n",
       "      <th>w</th>\n",
       "    </tr>\n",
       "  </thead>\n",
       "  <tbody>\n",
       "    <tr>\n",
       "      <th>0</th>\n",
       "      <td>0</td>\n",
       "      <td>892376</td>\n",
       "      <td>0.823</td>\n",
       "      <td>0.4699</td>\n",
       "      <td>1.532</td>\n",
       "      <td>0.007</td>\n",
       "      <td>3813</td>\n",
       "      <td>4.47</td>\n",
       "      <td>0.4503</td>\n",
       "    </tr>\n",
       "    <tr>\n",
       "      <th>1</th>\n",
       "      <td>0</td>\n",
       "      <td>1026146</td>\n",
       "      <td>1.405</td>\n",
       "      <td>0.6472</td>\n",
       "      <td>14.891</td>\n",
       "      <td>0.120</td>\n",
       "      <td>4261</td>\n",
       "      <td>4.57</td>\n",
       "      <td>0.7229</td>\n",
       "    </tr>\n",
       "    <tr>\n",
       "      <th>2</th>\n",
       "      <td>0</td>\n",
       "      <td>1026474</td>\n",
       "      <td>1.204</td>\n",
       "      <td>0.5914</td>\n",
       "      <td>1.569</td>\n",
       "      <td>0.006</td>\n",
       "      <td>4122</td>\n",
       "      <td>4.56</td>\n",
       "      <td>0.6061</td>\n",
       "    </tr>\n",
       "    <tr>\n",
       "      <th>3</th>\n",
       "      <td>1</td>\n",
       "      <td>1162635</td>\n",
       "      <td>0.978</td>\n",
       "      <td>0.4497</td>\n",
       "      <td>15.678</td>\n",
       "      <td>0.019</td>\n",
       "      <td>3760</td>\n",
       "      <td>4.77</td>\n",
       "      <td>0.5445</td>\n",
       "    </tr>\n",
       "    <tr>\n",
       "      <th>4</th>\n",
       "      <td>0</td>\n",
       "      <td>1164102</td>\n",
       "      <td>0.568</td>\n",
       "      <td>0.5606</td>\n",
       "      <td>31.496</td>\n",
       "      <td>0.474</td>\n",
       "      <td>4045</td>\n",
       "      <td>4.62</td>\n",
       "      <td>0.3939</td>\n",
       "    </tr>\n",
       "    <tr>\n",
       "      <th>...</th>\n",
       "      <td>...</td>\n",
       "      <td>...</td>\n",
       "      <td>...</td>\n",
       "      <td>...</td>\n",
       "      <td>...</td>\n",
       "      <td>...</td>\n",
       "      <td>...</td>\n",
       "      <td>...</td>\n",
       "      <td>...</td>\n",
       "    </tr>\n",
       "    <tr>\n",
       "      <th>64779</th>\n",
       "      <td>0</td>\n",
       "      <td>12934488</td>\n",
       "      <td>0.507</td>\n",
       "      <td>1.0281</td>\n",
       "      <td>51.754</td>\n",
       "      <td>0.849</td>\n",
       "      <td>5731</td>\n",
       "      <td>4.59</td>\n",
       "      <td>0.2247</td>\n",
       "    </tr>\n",
       "    <tr>\n",
       "      <th>64780</th>\n",
       "      <td>0</td>\n",
       "      <td>12934771</td>\n",
       "      <td>0.117</td>\n",
       "      <td>0.8275</td>\n",
       "      <td>60.106</td>\n",
       "      <td>4.700</td>\n",
       "      <td>4974</td>\n",
       "      <td>3.91</td>\n",
       "      <td>0.0081</td>\n",
       "    </tr>\n",
       "    <tr>\n",
       "      <th>64781</th>\n",
       "      <td>0</td>\n",
       "      <td>12934955</td>\n",
       "      <td>0.525</td>\n",
       "      <td>1.0680</td>\n",
       "      <td>57.268</td>\n",
       "      <td>6.512</td>\n",
       "      <td>5870</td>\n",
       "      <td>4.51</td>\n",
       "      <td>0.2272</td>\n",
       "    </tr>\n",
       "    <tr>\n",
       "      <th>64782</th>\n",
       "      <td>0</td>\n",
       "      <td>12935010</td>\n",
       "      <td>0.269</td>\n",
       "      <td>0.7756</td>\n",
       "      <td>29.986</td>\n",
       "      <td>3.730</td>\n",
       "      <td>4776</td>\n",
       "      <td>4.40</td>\n",
       "      <td>0.1523</td>\n",
       "    </tr>\n",
       "    <tr>\n",
       "      <th>64783</th>\n",
       "      <td>0</td>\n",
       "      <td>12984183</td>\n",
       "      <td>0.285</td>\n",
       "      <td>0.8798</td>\n",
       "      <td>24.754</td>\n",
       "      <td>1.705</td>\n",
       "      <td>5176</td>\n",
       "      <td>4.49</td>\n",
       "      <td>0.1650</td>\n",
       "    </tr>\n",
       "  </tbody>\n",
       "</table>\n",
       "<p>64784 rows × 9 columns</p>\n",
       "</div>"
      ],
      "text/plain": [
       "       DC       KID    LPH    Mass    Prot  Prot_err  Teff  logg       w\n",
       "0       0    892376  0.823  0.4699   1.532     0.007  3813  4.47  0.4503\n",
       "1       0   1026146  1.405  0.6472  14.891     0.120  4261  4.57  0.7229\n",
       "2       0   1026474  1.204  0.5914   1.569     0.006  4122  4.56  0.6061\n",
       "3       1   1162635  0.978  0.4497  15.678     0.019  3760  4.77  0.5445\n",
       "4       0   1164102  0.568  0.5606  31.496     0.474  4045  4.62  0.3939\n",
       "...    ..       ...    ...     ...     ...       ...   ...   ...     ...\n",
       "64779   0  12934488  0.507  1.0281  51.754     0.849  5731  4.59  0.2247\n",
       "64780   0  12934771  0.117  0.8275  60.106     4.700  4974  3.91  0.0081\n",
       "64781   0  12934955  0.525  1.0680  57.268     6.512  5870  4.51  0.2272\n",
       "64782   0  12935010  0.269  0.7756  29.986     3.730  4776  4.40  0.1523\n",
       "64783   0  12984183  0.285  0.8798  24.754     1.705  5176  4.49  0.1650\n",
       "\n",
       "[64784 rows x 9 columns]"
      ]
     },
     "execution_count": 4,
     "metadata": {},
     "output_type": "execute_result"
    }
   ],
   "source": [
    "data_df"
   ]
  },
  {
   "cell_type": "markdown",
   "metadata": {},
   "source": [
    "# FIRST RF classifier-------------------------------------------------------\n",
    "## uses all features"
   ]
  },
  {
   "cell_type": "code",
   "execution_count": 5,
   "metadata": {},
   "outputs": [],
   "source": [
    "#format data\n",
    "\n",
    "# luckily this kepler data has no nans and is all numeric...\n",
    "#...b/c we cleaned it beforehand"
   ]
  },
  {
   "cell_type": "code",
   "execution_count": 6,
   "metadata": {},
   "outputs": [],
   "source": [
    "# split into train/test datasets\n",
    "X_train, X_test, y_train, y_test = train_test_split(data_df, data_labels,  random_state=123456)"
   ]
  },
  {
   "cell_type": "code",
   "execution_count": 7,
   "metadata": {},
   "outputs": [
    {
     "data": {
      "text/plain": [
       "RandomForestClassifier(bootstrap=True, ccp_alpha=0.0, class_weight=None,\n",
       "                       criterion='gini', max_depth=None, max_features='auto',\n",
       "                       max_leaf_nodes=None, max_samples=None,\n",
       "                       min_impurity_decrease=0.0, min_impurity_split=None,\n",
       "                       min_samples_leaf=1, min_samples_split=2,\n",
       "                       min_weight_fraction_leaf=0.0, n_estimators=100,\n",
       "                       n_jobs=None, oob_score=True, random_state=123456,\n",
       "                       verbose=0, warm_start=False)"
      ]
     },
     "execution_count": 7,
     "metadata": {},
     "output_type": "execute_result"
    }
   ],
   "source": [
    "# setup RF model\n",
    "forest = RandomForestClassifier(n_estimators=100, oob_score=True, random_state=123456)\n",
    "# train RF model\n",
    "forest.fit(X_train, y_train)"
   ]
  },
  {
   "cell_type": "code",
   "execution_count": 8,
   "metadata": {},
   "outputs": [
    {
     "name": "stdout",
     "output_type": "stream",
     "text": [
      "0.999938256359595\n"
     ]
    }
   ],
   "source": [
    "# make predicitons \n",
    "predicted = forest.predict(X_test)\n",
    "# check accuracy of RF\n",
    "accuracy = accuracy_score(y_test, predicted)\n",
    "print(accuracy)"
   ]
  },
  {
   "cell_type": "code",
   "execution_count": 9,
   "metadata": {},
   "outputs": [
    {
     "name": "stdout",
     "output_type": "stream",
     "text": [
      "Feature ranking:\n",
      "1. feature 8 (0.545519)\n",
      "2. feature 2 (0.326429)\n",
      "3. feature 5 (0.076016)\n",
      "4. feature 4 (0.032148)\n",
      "5. feature 3 (0.010623)\n",
      "6. feature 6 (0.008587)\n",
      "7. feature 7 (0.000241)\n",
      "8. feature 0 (0.000232)\n",
      "9. feature 1 (0.000204)\n"
     ]
    },
    {
     "data": {
      "image/png": "[encoded data removed]",
      "text/plain": [
       "<Figure size 432x288 with 1 Axes>"
      ]
     },
     "metadata": {
      "needs_background": "light"
     },
     "output_type": "display_data"
    }
   ],
   "source": [
    "#plot relative importances of features\n",
    "\n",
    "#determine importances\n",
    "importances = forest.feature_importances_\n",
    "std = np.std([tree.feature_importances_ for tree in forest.estimators_],\n",
    "             axis=0)\n",
    "indices = np.argsort(importances)[::-1]\n",
    "\n",
    "# Print the feature ranking\n",
    "print(\"Feature ranking:\")\n",
    "for f in range(data_df.shape[1]):\n",
    "    print(\"%d. feature %d (%f)\" % (f + 1, indices[f], importances[indices[f]]))\n",
    "\n",
    "# Plot the feature importances of the forest\n",
    "plt.figure()\n",
    "plt.title(\"Feature importances\")\n",
    "plt.bar(range(data_df.shape[1]), importances[indices],\n",
    "       color=\"r\", yerr=std[indices], align=\"center\")\n",
    "plt.xticks(range(data_df.shape[1]), data_df.columns[indices])\n",
    "plt.xlim([-1, data_df.shape[1]])\n",
    "plt.show()"
   ]
  },
  {
   "cell_type": "markdown",
   "metadata": {},
   "source": [
    "# SECOND RF classifier-------------------------------------------------------\n",
    "## Remove weight feature & test again"
   ]
  },
  {
   "cell_type": "code",
   "execution_count": 10,
   "metadata": {},
   "outputs": [
    {
     "data": {
      "text/html": [
       "<div>\n",
       "<style scoped>\n",
       "    .dataframe tbody tr th:only-of-type {\n",
       "        vertical-align: middle;\n",
       "    }\n",
       "\n",
       "    .dataframe tbody tr th {\n",
       "        vertical-align: top;\n",
       "    }\n",
       "\n",
       "    .dataframe thead th {\n",
       "        text-align: right;\n",
       "    }\n",
       "</style>\n",
       "<table border=\"1\" class=\"dataframe\">\n",
       "  <thead>\n",
       "    <tr style=\"text-align: right;\">\n",
       "      <th></th>\n",
       "      <th>DC</th>\n",
       "      <th>KID</th>\n",
       "      <th>LPH</th>\n",
       "      <th>Mass</th>\n",
       "      <th>Prot</th>\n",
       "      <th>Prot_err</th>\n",
       "      <th>Teff</th>\n",
       "      <th>logg</th>\n",
       "    </tr>\n",
       "  </thead>\n",
       "  <tbody>\n",
       "    <tr>\n",
       "      <th>0</th>\n",
       "      <td>0</td>\n",
       "      <td>892376</td>\n",
       "      <td>0.823</td>\n",
       "      <td>0.4699</td>\n",
       "      <td>1.532</td>\n",
       "      <td>0.007</td>\n",
       "      <td>3813</td>\n",
       "      <td>4.47</td>\n",
       "    </tr>\n",
       "    <tr>\n",
       "      <th>1</th>\n",
       "      <td>0</td>\n",
       "      <td>1026146</td>\n",
       "      <td>1.405</td>\n",
       "      <td>0.6472</td>\n",
       "      <td>14.891</td>\n",
       "      <td>0.120</td>\n",
       "      <td>4261</td>\n",
       "      <td>4.57</td>\n",
       "    </tr>\n",
       "    <tr>\n",
       "      <th>2</th>\n",
       "      <td>0</td>\n",
       "      <td>1026474</td>\n",
       "      <td>1.204</td>\n",
       "      <td>0.5914</td>\n",
       "      <td>1.569</td>\n",
       "      <td>0.006</td>\n",
       "      <td>4122</td>\n",
       "      <td>4.56</td>\n",
       "    </tr>\n",
       "    <tr>\n",
       "      <th>3</th>\n",
       "      <td>1</td>\n",
       "      <td>1162635</td>\n",
       "      <td>0.978</td>\n",
       "      <td>0.4497</td>\n",
       "      <td>15.678</td>\n",
       "      <td>0.019</td>\n",
       "      <td>3760</td>\n",
       "      <td>4.77</td>\n",
       "    </tr>\n",
       "    <tr>\n",
       "      <th>4</th>\n",
       "      <td>0</td>\n",
       "      <td>1164102</td>\n",
       "      <td>0.568</td>\n",
       "      <td>0.5606</td>\n",
       "      <td>31.496</td>\n",
       "      <td>0.474</td>\n",
       "      <td>4045</td>\n",
       "      <td>4.62</td>\n",
       "    </tr>\n",
       "    <tr>\n",
       "      <th>...</th>\n",
       "      <td>...</td>\n",
       "      <td>...</td>\n",
       "      <td>...</td>\n",
       "      <td>...</td>\n",
       "      <td>...</td>\n",
       "      <td>...</td>\n",
       "      <td>...</td>\n",
       "      <td>...</td>\n",
       "    </tr>\n",
       "    <tr>\n",
       "      <th>64779</th>\n",
       "      <td>0</td>\n",
       "      <td>12934488</td>\n",
       "      <td>0.507</td>\n",
       "      <td>1.0281</td>\n",
       "      <td>51.754</td>\n",
       "      <td>0.849</td>\n",
       "      <td>5731</td>\n",
       "      <td>4.59</td>\n",
       "    </tr>\n",
       "    <tr>\n",
       "      <th>64780</th>\n",
       "      <td>0</td>\n",
       "      <td>12934771</td>\n",
       "      <td>0.117</td>\n",
       "      <td>0.8275</td>\n",
       "      <td>60.106</td>\n",
       "      <td>4.700</td>\n",
       "      <td>4974</td>\n",
       "      <td>3.91</td>\n",
       "    </tr>\n",
       "    <tr>\n",
       "      <th>64781</th>\n",
       "      <td>0</td>\n",
       "      <td>12934955</td>\n",
       "      <td>0.525</td>\n",
       "      <td>1.0680</td>\n",
       "      <td>57.268</td>\n",
       "      <td>6.512</td>\n",
       "      <td>5870</td>\n",
       "      <td>4.51</td>\n",
       "    </tr>\n",
       "    <tr>\n",
       "      <th>64782</th>\n",
       "      <td>0</td>\n",
       "      <td>12935010</td>\n",
       "      <td>0.269</td>\n",
       "      <td>0.7756</td>\n",
       "      <td>29.986</td>\n",
       "      <td>3.730</td>\n",
       "      <td>4776</td>\n",
       "      <td>4.40</td>\n",
       "    </tr>\n",
       "    <tr>\n",
       "      <th>64783</th>\n",
       "      <td>0</td>\n",
       "      <td>12984183</td>\n",
       "      <td>0.285</td>\n",
       "      <td>0.8798</td>\n",
       "      <td>24.754</td>\n",
       "      <td>1.705</td>\n",
       "      <td>5176</td>\n",
       "      <td>4.49</td>\n",
       "    </tr>\n",
       "  </tbody>\n",
       "</table>\n",
       "<p>64784 rows × 8 columns</p>\n",
       "</div>"
      ],
      "text/plain": [
       "       DC       KID    LPH    Mass    Prot  Prot_err  Teff  logg\n",
       "0       0    892376  0.823  0.4699   1.532     0.007  3813  4.47\n",
       "1       0   1026146  1.405  0.6472  14.891     0.120  4261  4.57\n",
       "2       0   1026474  1.204  0.5914   1.569     0.006  4122  4.56\n",
       "3       1   1162635  0.978  0.4497  15.678     0.019  3760  4.77\n",
       "4       0   1164102  0.568  0.5606  31.496     0.474  4045  4.62\n",
       "...    ..       ...    ...     ...     ...       ...   ...   ...\n",
       "64779   0  12934488  0.507  1.0281  51.754     0.849  5731  4.59\n",
       "64780   0  12934771  0.117  0.8275  60.106     4.700  4974  3.91\n",
       "64781   0  12934955  0.525  1.0680  57.268     6.512  5870  4.51\n",
       "64782   0  12935010  0.269  0.7756  29.986     3.730  4776  4.40\n",
       "64783   0  12984183  0.285  0.8798  24.754     1.705  5176  4.49\n",
       "\n",
       "[64784 rows x 8 columns]"
      ]
     },
     "execution_count": 10,
     "metadata": {},
     "output_type": "execute_result"
    }
   ],
   "source": [
    "#format data\n",
    "\n",
    "# try remove w\n",
    "data_df = data_df.drop('w', 1)\n",
    "data_df"
   ]
  },
  {
   "cell_type": "code",
   "execution_count": 11,
   "metadata": {},
   "outputs": [],
   "source": [
    "# split into train/test datasets\n",
    "X_train, X_test, y_train, y_test = train_test_split(data_df, data_labels,  random_state=123456)"
   ]
  },
  {
   "cell_type": "code",
   "execution_count": 12,
   "metadata": {},
   "outputs": [
    {
     "data": {
      "text/plain": [
       "RandomForestClassifier(bootstrap=True, ccp_alpha=0.0, class_weight=None,\n",
       "                       criterion='gini', max_depth=None, max_features='auto',\n",
       "                       max_leaf_nodes=None, max_samples=None,\n",
       "                       min_impurity_decrease=0.0, min_impurity_split=None,\n",
       "                       min_samples_leaf=1, min_samples_split=2,\n",
       "                       min_weight_fraction_leaf=0.0, n_estimators=100,\n",
       "                       n_jobs=None, oob_score=True, random_state=123456,\n",
       "                       verbose=0, warm_start=False)"
      ]
     },
     "execution_count": 12,
     "metadata": {},
     "output_type": "execute_result"
    }
   ],
   "source": [
    "# setup RF model \n",
    "forest = RandomForestClassifier(n_estimators=100, oob_score=True, random_state=123456)\n",
    "# train RF model\n",
    "forest.fit(X_train, y_train)"
   ]
  },
  {
   "cell_type": "code",
   "execution_count": 13,
   "metadata": {},
   "outputs": [
    {
     "name": "stdout",
     "output_type": "stream",
     "text": [
      "0.9875277846381822\n"
     ]
    }
   ],
   "source": [
    "# make predicitons \n",
    "predicted = forest.predict(X_test)\n",
    "# check accuracy of RF\n",
    "accuracy = accuracy_score(y_test, predicted)\n",
    "print(accuracy)"
   ]
  },
  {
   "cell_type": "code",
   "execution_count": 14,
   "metadata": {},
   "outputs": [
    {
     "name": "stdout",
     "output_type": "stream",
     "text": [
      "Feature ranking:\n",
      "1. feature 2 (0.621199)\n",
      "2. feature 5 (0.160282)\n",
      "3. feature 4 (0.111574)\n",
      "4. feature 3 (0.042555)\n",
      "5. feature 6 (0.040047)\n",
      "6. feature 1 (0.010491)\n",
      "7. feature 7 (0.009849)\n",
      "8. feature 0 (0.004003)\n"
     ]
    },
    {
     "data": {
      "image/png": "[encoded data removed]",
      "text/plain": [
       "<Figure size 432x288 with 1 Axes>"
      ]
     },
     "metadata": {
      "needs_background": "light"
     },
     "output_type": "display_data"
    }
   ],
   "source": [
    "#plot relative importances of features\n",
    "\n",
    "#determine importances\n",
    "importances = forest.feature_importances_\n",
    "std = np.std([tree.feature_importances_ for tree in forest.estimators_],\n",
    "             axis=0)\n",
    "indices = np.argsort(importances)[::-1]\n",
    "\n",
    "# Print the feature ranking\n",
    "print(\"Feature ranking:\")\n",
    "for f in range(data_df.shape[1]):\n",
    "    print(\"%d. feature %d (%f)\" % (f + 1, indices[f], importances[indices[f]]))\n",
    "\n",
    "# Plot the feature importances of the forest\n",
    "plt.figure()\n",
    "plt.title(\"Feature importances\")\n",
    "plt.bar(range(data_df.shape[1]), importances[indices],\n",
    "       color=\"r\", yerr=std[indices], align=\"center\")\n",
    "plt.xticks(range(data_df.shape[1]), data_df.columns[indices])\n",
    "plt.xlim([-1, data_df.shape[1]])\n",
    "plt.show()"
   ]
  },
  {
   "cell_type": "markdown",
   "metadata": {},
   "source": [
    "# THIRD RF classifier-------------------------------------------------------\n",
    "## Inject Random Number & test again"
   ]
  },
  {
   "cell_type": "code",
   "execution_count": 18,
   "metadata": {},
   "outputs": [],
   "source": [
    "#format data\n",
    "\n",
    "# inject random number as a test\n",
    "np.random.seed(seed = 42)\n",
    "data_df['random'] = np.random.random(size = len(data_df))"
   ]
  },
  {
   "cell_type": "code",
   "execution_count": 19,
   "metadata": {},
   "outputs": [],
   "source": [
    "# split into train/test datasets\n",
    "X_train, X_test, y_train, y_test = train_test_split(data_df, data_labels,  random_state=123456)"
   ]
  },
  {
   "cell_type": "code",
   "execution_count": 20,
   "metadata": {},
   "outputs": [
    {
     "data": {
      "text/plain": [
       "RandomForestClassifier(bootstrap=True, ccp_alpha=0.0, class_weight=None,\n",
       "                       criterion='gini', max_depth=None, max_features='auto',\n",
       "                       max_leaf_nodes=None, max_samples=None,\n",
       "                       min_impurity_decrease=0.0, min_impurity_split=None,\n",
       "                       min_samples_leaf=1, min_samples_split=2,\n",
       "                       min_weight_fraction_leaf=0.0, n_estimators=100,\n",
       "                       n_jobs=None, oob_score=True, random_state=123456,\n",
       "                       verbose=0, warm_start=False)"
      ]
     },
     "execution_count": 20,
     "metadata": {},
     "output_type": "execute_result"
    }
   ],
   "source": [
    "# setup RF model \n",
    "forest = RandomForestClassifier(n_estimators=100, oob_score=True, random_state=123456)\n",
    "# train RF model\n",
    "forest.fit(X_train, y_train)"
   ]
  },
  {
   "cell_type": "code",
   "execution_count": 21,
   "metadata": {},
   "outputs": [
    {
     "name": "stdout",
     "output_type": "stream",
     "text": [
      "0.9890713756483083\n"
     ]
    }
   ],
   "source": [
    "# make predicitons \n",
    "predicted = forest.predict(X_test)\n",
    "#check accuracy of RF\n",
    "accuracy = accuracy_score(y_test, predicted)\n",
    "print(accuracy)"
   ]
  },
  {
   "cell_type": "code",
   "execution_count": 22,
   "metadata": {},
   "outputs": [
    {
     "name": "stdout",
     "output_type": "stream",
     "text": [
      "Feature ranking:\n",
      "1. feature 2 (0.700227)\n",
      "2. feature 5 (0.126203)\n",
      "3. feature 4 (0.093212)\n",
      "4. feature 6 (0.031943)\n",
      "5. feature 3 (0.027915)\n",
      "6. feature 1 (0.006681)\n",
      "7. feature 7 (0.006506)\n",
      "8. feature 8 (0.006036)\n",
      "9. feature 0 (0.001277)\n"
     ]
    },
    {
     "data": {
      "image/png": "[encoded data removed]",
      "text/plain": [
       "<Figure size 432x288 with 1 Axes>"
      ]
     },
     "metadata": {
      "needs_background": "light"
     },
     "output_type": "display_data"
    }
   ],
   "source": [
    "#plot relative importances of features\n",
    "\n",
    "#determine importances\n",
    "importances = forest.feature_importances_\n",
    "std = np.std([tree.feature_importances_ for tree in forest.estimators_],\n",
    "             axis=0)\n",
    "indices = np.argsort(importances)[::-1]\n",
    "\n",
    "# Print the feature ranking\n",
    "print(\"Feature ranking:\")\n",
    "for f in range(data_df.shape[1]):\n",
    "    print(\"%d. feature %d (%f)\" % (f + 1, indices[f], importances[indices[f]]))\n",
    "\n",
    "# Plot the feature importances of the forest\n",
    "plt.figure()\n",
    "plt.title(\"Feature importances\")\n",
    "plt.bar(range(data_df.shape[1]), importances[indices],\n",
    "       color=\"r\", yerr=std[indices], align=\"center\")\n",
    "plt.xticks(range(data_df.shape[1]), data_df.columns[indices])\n",
    "plt.xlim([-1, data_df.shape[1]])\n",
    "plt.show()"
   ]
  },
  {
   "cell_type": "markdown",
   "metadata": {},
   "source": [
    "# FOURTH RF classifier-------------------------------------------------------\n",
    "## trying to extend to our TESS data - not entirely apples to apples but let's see what happens"
   ]
  },
  {
   "cell_type": "code",
   "execution_count": 33,
   "metadata": {
    "scrolled": false
   },
   "outputs": [
    {
     "data": {
      "text/html": [
       "<div>\n",
       "<style scoped>\n",
       "    .dataframe tbody tr th:only-of-type {\n",
       "        vertical-align: middle;\n",
       "    }\n",
       "\n",
       "    .dataframe tbody tr th {\n",
       "        vertical-align: top;\n",
       "    }\n",
       "\n",
       "    .dataframe thead th {\n",
       "        text-align: right;\n",
       "    }\n",
       "</style>\n",
       "<table border=\"1\" class=\"dataframe\">\n",
       "  <thead>\n",
       "    <tr style=\"text-align: right;\">\n",
       "      <th></th>\n",
       "      <th>LPH</th>\n",
       "      <th>Mass</th>\n",
       "      <th>Prot</th>\n",
       "      <th>Teff</th>\n",
       "      <th>logg</th>\n",
       "      <th>random</th>\n",
       "    </tr>\n",
       "  </thead>\n",
       "  <tbody>\n",
       "    <tr>\n",
       "      <th>0</th>\n",
       "      <td>0.823</td>\n",
       "      <td>0.4699</td>\n",
       "      <td>1.532</td>\n",
       "      <td>3813</td>\n",
       "      <td>4.47</td>\n",
       "      <td>0.374540</td>\n",
       "    </tr>\n",
       "    <tr>\n",
       "      <th>1</th>\n",
       "      <td>1.405</td>\n",
       "      <td>0.6472</td>\n",
       "      <td>14.891</td>\n",
       "      <td>4261</td>\n",
       "      <td>4.57</td>\n",
       "      <td>0.950714</td>\n",
       "    </tr>\n",
       "    <tr>\n",
       "      <th>2</th>\n",
       "      <td>1.204</td>\n",
       "      <td>0.5914</td>\n",
       "      <td>1.569</td>\n",
       "      <td>4122</td>\n",
       "      <td>4.56</td>\n",
       "      <td>0.731994</td>\n",
       "    </tr>\n",
       "    <tr>\n",
       "      <th>3</th>\n",
       "      <td>0.978</td>\n",
       "      <td>0.4497</td>\n",
       "      <td>15.678</td>\n",
       "      <td>3760</td>\n",
       "      <td>4.77</td>\n",
       "      <td>0.598658</td>\n",
       "    </tr>\n",
       "    <tr>\n",
       "      <th>4</th>\n",
       "      <td>0.568</td>\n",
       "      <td>0.5606</td>\n",
       "      <td>31.496</td>\n",
       "      <td>4045</td>\n",
       "      <td>4.62</td>\n",
       "      <td>0.156019</td>\n",
       "    </tr>\n",
       "    <tr>\n",
       "      <th>...</th>\n",
       "      <td>...</td>\n",
       "      <td>...</td>\n",
       "      <td>...</td>\n",
       "      <td>...</td>\n",
       "      <td>...</td>\n",
       "      <td>...</td>\n",
       "    </tr>\n",
       "    <tr>\n",
       "      <th>64779</th>\n",
       "      <td>0.507</td>\n",
       "      <td>1.0281</td>\n",
       "      <td>51.754</td>\n",
       "      <td>5731</td>\n",
       "      <td>4.59</td>\n",
       "      <td>0.293617</td>\n",
       "    </tr>\n",
       "    <tr>\n",
       "      <th>64780</th>\n",
       "      <td>0.117</td>\n",
       "      <td>0.8275</td>\n",
       "      <td>60.106</td>\n",
       "      <td>4974</td>\n",
       "      <td>3.91</td>\n",
       "      <td>0.609196</td>\n",
       "    </tr>\n",
       "    <tr>\n",
       "      <th>64781</th>\n",
       "      <td>0.525</td>\n",
       "      <td>1.0680</td>\n",
       "      <td>57.268</td>\n",
       "      <td>5870</td>\n",
       "      <td>4.51</td>\n",
       "      <td>0.517570</td>\n",
       "    </tr>\n",
       "    <tr>\n",
       "      <th>64782</th>\n",
       "      <td>0.269</td>\n",
       "      <td>0.7756</td>\n",
       "      <td>29.986</td>\n",
       "      <td>4776</td>\n",
       "      <td>4.40</td>\n",
       "      <td>0.992159</td>\n",
       "    </tr>\n",
       "    <tr>\n",
       "      <th>64783</th>\n",
       "      <td>0.285</td>\n",
       "      <td>0.8798</td>\n",
       "      <td>24.754</td>\n",
       "      <td>5176</td>\n",
       "      <td>4.49</td>\n",
       "      <td>0.408356</td>\n",
       "    </tr>\n",
       "  </tbody>\n",
       "</table>\n",
       "<p>64784 rows × 6 columns</p>\n",
       "</div>"
      ],
      "text/plain": [
       "         LPH    Mass    Prot  Teff  logg    random\n",
       "0      0.823  0.4699   1.532  3813  4.47  0.374540\n",
       "1      1.405  0.6472  14.891  4261  4.57  0.950714\n",
       "2      1.204  0.5914   1.569  4122  4.56  0.731994\n",
       "3      0.978  0.4497  15.678  3760  4.77  0.598658\n",
       "4      0.568  0.5606  31.496  4045  4.62  0.156019\n",
       "...      ...     ...     ...   ...   ...       ...\n",
       "64779  0.507  1.0281  51.754  5731  4.59  0.293617\n",
       "64780  0.117  0.8275  60.106  4974  3.91  0.609196\n",
       "64781  0.525  1.0680  57.268  5870  4.51  0.517570\n",
       "64782  0.269  0.7756  29.986  4776  4.40  0.992159\n",
       "64783  0.285  0.8798  24.754  5176  4.49  0.408356\n",
       "\n",
       "[64784 rows x 6 columns]"
      ]
     },
     "execution_count": 33,
     "metadata": {},
     "output_type": "execute_result"
    }
   ],
   "source": [
    "# remove all features we don't have\n",
    "\n",
    "data_df = data_df.drop(['Prot_err','DC','KID'], 1)\n",
    "data_df"
   ]
  },
  {
   "cell_type": "code",
   "execution_count": 34,
   "metadata": {},
   "outputs": [],
   "source": [
    "# split into train/test datasets\n",
    "X_train, X_test, y_train, y_test = train_test_split(data_df, data_labels,  random_state=123456)"
   ]
  },
  {
   "cell_type": "code",
   "execution_count": 35,
   "metadata": {},
   "outputs": [
    {
     "data": {
      "text/plain": [
       "RandomForestClassifier(bootstrap=True, ccp_alpha=0.0, class_weight=None,\n",
       "                       criterion='gini', max_depth=None, max_features='auto',\n",
       "                       max_leaf_nodes=None, max_samples=None,\n",
       "                       min_impurity_decrease=0.0, min_impurity_split=None,\n",
       "                       min_samples_leaf=1, min_samples_split=2,\n",
       "                       min_weight_fraction_leaf=0.0, n_estimators=100,\n",
       "                       n_jobs=None, oob_score=True, random_state=123456,\n",
       "                       verbose=0, warm_start=False)"
      ]
     },
     "execution_count": 35,
     "metadata": {},
     "output_type": "execute_result"
    }
   ],
   "source": [
    "# setup RF model \n",
    "forest = RandomForestClassifier(n_estimators=100, oob_score=True, random_state=123456)\n",
    "# train RF model\n",
    "forest.fit(X_train, y_train)"
   ]
  },
  {
   "cell_type": "code",
   "execution_count": 36,
   "metadata": {},
   "outputs": [
    {
     "name": "stdout",
     "output_type": "stream",
     "text": [
      "0.9911706594220795\n"
     ]
    }
   ],
   "source": [
    "# make predicitons \n",
    "predicted = forest.predict(X_test)\n",
    "#check accuracy of RF\n",
    "accuracy = accuracy_score(y_test, predicted)\n",
    "print(accuracy)"
   ]
  },
  {
   "cell_type": "code",
   "execution_count": 37,
   "metadata": {},
   "outputs": [
    {
     "name": "stdout",
     "output_type": "stream",
     "text": [
      "Feature ranking:\n",
      "1. feature 0 (0.777118)\n",
      "2. feature 2 (0.134466)\n",
      "3. feature 3 (0.037210)\n",
      "4. feature 1 (0.035553)\n",
      "5. feature 4 (0.007979)\n",
      "6. feature 5 (0.007674)\n"
     ]
    },
    {
     "data": {
      "image/png": "[encoded data removed]",
      "text/plain": [
       "<Figure size 432x288 with 1 Axes>"
      ]
     },
     "metadata": {
      "needs_background": "light"
     },
     "output_type": "display_data"
    }
   ],
   "source": [
    "#plot relative importances of features\n",
    "\n",
    "#determine importances\n",
    "importances = forest.feature_importances_\n",
    "std = np.std([tree.feature_importances_ for tree in forest.estimators_],\n",
    "             axis=0)\n",
    "indices = np.argsort(importances)[::-1]\n",
    "\n",
    "# Print the feature ranking\n",
    "print(\"Feature ranking:\")\n",
    "for f in range(data_df.shape[1]):\n",
    "    print(\"%d. feature %d (%f)\" % (f + 1, indices[f], importances[indices[f]]))\n",
    "\n",
    "# Plot the feature importances of the forest\n",
    "plt.figure()\n",
    "plt.title(\"Feature importances\")\n",
    "plt.bar(range(data_df.shape[1]), importances[indices],\n",
    "       color=\"r\", yerr=std[indices], align=\"center\")\n",
    "plt.xticks(range(data_df.shape[1]), data_df.columns[indices])\n",
    "plt.xlim([-1, data_df.shape[1]])\n",
    "plt.show()"
   ]
  },
  {
   "cell_type": "markdown",
   "metadata": {},
   "source": [
    "# test with our data-------------------------------------------------------\n",
    "## format data"
   ]
  },
  {
   "cell_type": "code",
   "execution_count": 41,
   "metadata": {},
   "outputs": [],
   "source": [
    "# load data\n",
    "ourdata = pd.read_csv('data/RF_data/intern_data_for_RF.csv')"
   ]
  },
  {
   "cell_type": "code",
   "execution_count": 42,
   "metadata": {},
   "outputs": [
    {
     "data": {
      "text/html": [
       "<div>\n",
       "<style scoped>\n",
       "    .dataframe tbody tr th:only-of-type {\n",
       "        vertical-align: middle;\n",
       "    }\n",
       "\n",
       "    .dataframe tbody tr th {\n",
       "        vertical-align: top;\n",
       "    }\n",
       "\n",
       "    .dataframe thead th {\n",
       "        text-align: right;\n",
       "    }\n",
       "</style>\n",
       "<table border=\"1\" class=\"dataframe\">\n",
       "  <thead>\n",
       "    <tr style=\"text-align: right;\">\n",
       "      <th></th>\n",
       "      <th>Prot</th>\n",
       "      <th>Teff</th>\n",
       "      <th>Mass</th>\n",
       "      <th>logg</th>\n",
       "      <th>LPH</th>\n",
       "      <th>random</th>\n",
       "    </tr>\n",
       "  </thead>\n",
       "  <tbody>\n",
       "    <tr>\n",
       "      <th>1</th>\n",
       "      <td>35.995205</td>\n",
       "      <td>3673.0</td>\n",
       "      <td>0.530160</td>\n",
       "      <td>4.70823</td>\n",
       "      <td>0.482505</td>\n",
       "      <td>0.374540</td>\n",
       "    </tr>\n",
       "    <tr>\n",
       "      <th>2</th>\n",
       "      <td>7.057561</td>\n",
       "      <td>3602.0</td>\n",
       "      <td>0.544927</td>\n",
       "      <td>4.69426</td>\n",
       "      <td>0.066943</td>\n",
       "      <td>0.950714</td>\n",
       "    </tr>\n",
       "    <tr>\n",
       "      <th>4</th>\n",
       "      <td>9.837096</td>\n",
       "      <td>4356.0</td>\n",
       "      <td>0.680000</td>\n",
       "      <td>4.60376</td>\n",
       "      <td>0.167688</td>\n",
       "      <td>0.731994</td>\n",
       "    </tr>\n",
       "    <tr>\n",
       "      <th>5</th>\n",
       "      <td>2.931013</td>\n",
       "      <td>3578.0</td>\n",
       "      <td>0.528984</td>\n",
       "      <td>4.70932</td>\n",
       "      <td>0.106357</td>\n",
       "      <td>0.598658</td>\n",
       "    </tr>\n",
       "    <tr>\n",
       "      <th>6</th>\n",
       "      <td>32.581667</td>\n",
       "      <td>4457.0</td>\n",
       "      <td>0.700000</td>\n",
       "      <td>4.55234</td>\n",
       "      <td>0.087255</td>\n",
       "      <td>0.156019</td>\n",
       "    </tr>\n",
       "    <tr>\n",
       "      <th>7</th>\n",
       "      <td>7.768626</td>\n",
       "      <td>4396.0</td>\n",
       "      <td>0.690000</td>\n",
       "      <td>4.34624</td>\n",
       "      <td>0.201438</td>\n",
       "      <td>0.155995</td>\n",
       "    </tr>\n",
       "    <tr>\n",
       "      <th>8</th>\n",
       "      <td>11.976158</td>\n",
       "      <td>3416.0</td>\n",
       "      <td>0.403650</td>\n",
       "      <td>4.81675</td>\n",
       "      <td>0.256267</td>\n",
       "      <td>0.058084</td>\n",
       "    </tr>\n",
       "    <tr>\n",
       "      <th>9</th>\n",
       "      <td>6.919293</td>\n",
       "      <td>3849.0</td>\n",
       "      <td>0.591651</td>\n",
       "      <td>4.64751</td>\n",
       "      <td>0.148333</td>\n",
       "      <td>0.866176</td>\n",
       "    </tr>\n",
       "    <tr>\n",
       "      <th>10</th>\n",
       "      <td>7.209692</td>\n",
       "      <td>3418.0</td>\n",
       "      <td>0.389239</td>\n",
       "      <td>4.82848</td>\n",
       "      <td>0.058544</td>\n",
       "      <td>0.601115</td>\n",
       "    </tr>\n",
       "    <tr>\n",
       "      <th>11</th>\n",
       "      <td>15.630803</td>\n",
       "      <td>3624.0</td>\n",
       "      <td>0.542123</td>\n",
       "      <td>4.69694</td>\n",
       "      <td>0.584596</td>\n",
       "      <td>0.708073</td>\n",
       "    </tr>\n",
       "    <tr>\n",
       "      <th>12</th>\n",
       "      <td>4.747520</td>\n",
       "      <td>4280.0</td>\n",
       "      <td>0.670000</td>\n",
       "      <td>4.65749</td>\n",
       "      <td>0.215946</td>\n",
       "      <td>0.020584</td>\n",
       "    </tr>\n",
       "    <tr>\n",
       "      <th>13</th>\n",
       "      <td>9.224421</td>\n",
       "      <td>3736.0</td>\n",
       "      <td>0.552728</td>\n",
       "      <td>4.68672</td>\n",
       "      <td>0.118643</td>\n",
       "      <td>0.969910</td>\n",
       "    </tr>\n",
       "    <tr>\n",
       "      <th>14</th>\n",
       "      <td>2.931013</td>\n",
       "      <td>4380.0</td>\n",
       "      <td>0.680000</td>\n",
       "      <td>4.65950</td>\n",
       "      <td>0.237893</td>\n",
       "      <td>0.832443</td>\n",
       "    </tr>\n",
       "    <tr>\n",
       "      <th>15</th>\n",
       "      <td>11.623358</td>\n",
       "      <td>4013.0</td>\n",
       "      <td>0.630000</td>\n",
       "      <td>4.60208</td>\n",
       "      <td>0.123106</td>\n",
       "      <td>0.212339</td>\n",
       "    </tr>\n",
       "    <tr>\n",
       "      <th>17</th>\n",
       "      <td>5.095760</td>\n",
       "      <td>4290.0</td>\n",
       "      <td>0.670000</td>\n",
       "      <td>4.82657</td>\n",
       "      <td>0.734255</td>\n",
       "      <td>0.181825</td>\n",
       "    </tr>\n",
       "    <tr>\n",
       "      <th>18</th>\n",
       "      <td>11.428718</td>\n",
       "      <td>4466.0</td>\n",
       "      <td>0.700000</td>\n",
       "      <td>4.62836</td>\n",
       "      <td>0.299347</td>\n",
       "      <td>0.183405</td>\n",
       "    </tr>\n",
       "    <tr>\n",
       "      <th>20</th>\n",
       "      <td>10.254541</td>\n",
       "      <td>3837.0</td>\n",
       "      <td>0.599908</td>\n",
       "      <td>4.63885</td>\n",
       "      <td>0.436705</td>\n",
       "      <td>0.304242</td>\n",
       "    </tr>\n",
       "    <tr>\n",
       "      <th>22</th>\n",
       "      <td>6.436905</td>\n",
       "      <td>4470.0</td>\n",
       "      <td>0.700000</td>\n",
       "      <td>4.58664</td>\n",
       "      <td>0.063820</td>\n",
       "      <td>0.524756</td>\n",
       "    </tr>\n",
       "    <tr>\n",
       "      <th>23</th>\n",
       "      <td>14.286633</td>\n",
       "      <td>3920.0</td>\n",
       "      <td>0.579062</td>\n",
       "      <td>4.66049</td>\n",
       "      <td>0.366568</td>\n",
       "      <td>0.431945</td>\n",
       "    </tr>\n",
       "    <tr>\n",
       "      <th>24</th>\n",
       "      <td>5.099362</td>\n",
       "      <td>4265.0</td>\n",
       "      <td>0.670000</td>\n",
       "      <td>4.68594</td>\n",
       "      <td>0.126989</td>\n",
       "      <td>0.291229</td>\n",
       "    </tr>\n",
       "    <tr>\n",
       "      <th>25</th>\n",
       "      <td>6.820247</td>\n",
       "      <td>4442.0</td>\n",
       "      <td>0.700000</td>\n",
       "      <td>4.48529</td>\n",
       "      <td>0.579615</td>\n",
       "      <td>0.611853</td>\n",
       "    </tr>\n",
       "    <tr>\n",
       "      <th>26</th>\n",
       "      <td>6.693696</td>\n",
       "      <td>4420.3</td>\n",
       "      <td>0.690000</td>\n",
       "      <td>4.47559</td>\n",
       "      <td>0.050426</td>\n",
       "      <td>0.139494</td>\n",
       "    </tr>\n",
       "    <tr>\n",
       "      <th>27</th>\n",
       "      <td>6.890970</td>\n",
       "      <td>4255.0</td>\n",
       "      <td>0.670000</td>\n",
       "      <td>4.78162</td>\n",
       "      <td>0.126592</td>\n",
       "      <td>0.292145</td>\n",
       "    </tr>\n",
       "  </tbody>\n",
       "</table>\n",
       "</div>"
      ],
      "text/plain": [
       "         Prot    Teff      Mass     logg       LPH    random\n",
       "1   35.995205  3673.0  0.530160  4.70823  0.482505  0.374540\n",
       "2    7.057561  3602.0  0.544927  4.69426  0.066943  0.950714\n",
       "4    9.837096  4356.0  0.680000  4.60376  0.167688  0.731994\n",
       "5    2.931013  3578.0  0.528984  4.70932  0.106357  0.598658\n",
       "6   32.581667  4457.0  0.700000  4.55234  0.087255  0.156019\n",
       "7    7.768626  4396.0  0.690000  4.34624  0.201438  0.155995\n",
       "8   11.976158  3416.0  0.403650  4.81675  0.256267  0.058084\n",
       "9    6.919293  3849.0  0.591651  4.64751  0.148333  0.866176\n",
       "10   7.209692  3418.0  0.389239  4.82848  0.058544  0.601115\n",
       "11  15.630803  3624.0  0.542123  4.69694  0.584596  0.708073\n",
       "12   4.747520  4280.0  0.670000  4.65749  0.215946  0.020584\n",
       "13   9.224421  3736.0  0.552728  4.68672  0.118643  0.969910\n",
       "14   2.931013  4380.0  0.680000  4.65950  0.237893  0.832443\n",
       "15  11.623358  4013.0  0.630000  4.60208  0.123106  0.212339\n",
       "17   5.095760  4290.0  0.670000  4.82657  0.734255  0.181825\n",
       "18  11.428718  4466.0  0.700000  4.62836  0.299347  0.183405\n",
       "20  10.254541  3837.0  0.599908  4.63885  0.436705  0.304242\n",
       "22   6.436905  4470.0  0.700000  4.58664  0.063820  0.524756\n",
       "23  14.286633  3920.0  0.579062  4.66049  0.366568  0.431945\n",
       "24   5.099362  4265.0  0.670000  4.68594  0.126989  0.291229\n",
       "25   6.820247  4442.0  0.700000  4.48529  0.579615  0.611853\n",
       "26   6.693696  4420.3  0.690000  4.47559  0.050426  0.139494\n",
       "27   6.890970  4255.0  0.670000  4.78162  0.126592  0.292145"
      ]
     },
     "execution_count": 42,
     "metadata": {},
     "output_type": "execute_result"
    }
   ],
   "source": [
    "# drop tic column\n",
    "ourdata = ourdata.drop('tic',1)\n",
    "# remove nans in our data\n",
    "ourdata = ourdata.dropna()\n",
    "#inject random value\n",
    "np.random.seed(seed = 42)\n",
    "ourdata['random'] = np.random.random(size = len(ourdata))\n",
    "\n",
    "ourdata"
   ]
  },
  {
   "cell_type": "markdown",
   "metadata": {},
   "source": [
    "## test our data with trained RF"
   ]
  },
  {
   "cell_type": "code",
   "execution_count": 40,
   "metadata": {},
   "outputs": [
    {
     "data": {
      "text/plain": [
       "(array([ 0, 23]), array([0, 1, 2]))"
      ]
     },
     "execution_count": 40,
     "metadata": {},
     "output_type": "execute_result"
    }
   ],
   "source": [
    "predicted = forest.predict(ourdata)\n",
    "our_accuracy = np.histogram(predicted,bins = np.arange(0,3,1))\n",
    "our_accuracy "
   ]
  },
  {
   "cell_type": "code",
   "execution_count": null,
   "metadata": {},
   "outputs": [],
   "source": []
  },
  {
   "cell_type": "code",
   "execution_count": null,
   "metadata": {},
   "outputs": [],
   "source": []
  },
  {
   "cell_type": "code",
   "execution_count": null,
   "metadata": {},
   "outputs": [],
   "source": []
  },
  {
   "cell_type": "code",
   "execution_count": null,
   "metadata": {},
   "outputs": [],
   "source": []
  }
 ],
 "metadata": {
  "kernelspec": {
   "display_name": "Python 3",
   "language": "python",
   "name": "python3"
  },
  "language_info": {
   "codemirror_mode": {
    "name": "ipython",
    "version": 3
   },
   "file_extension": ".py",
   "mimetype": "text/x-python",
   "name": "python",
   "nbconvert_exporter": "python",
   "pygments_lexer": "ipython3",
   "version": "3.7.3"
  }
 },
 "nbformat": 4,
 "nbformat_minor": 4
}
